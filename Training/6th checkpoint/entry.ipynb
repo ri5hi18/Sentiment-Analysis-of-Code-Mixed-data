{
 "cells": [
  {
   "cell_type": "code",
   "execution_count": 2,
   "metadata": {},
   "outputs": [
    {
     "name": "stderr",
     "output_type": "stream",
     "text": [
      "Finding unique entries: 100%|██████████| 225951/225951 [00:00<00:00, 2478657.30it/s]"
     ]
    },
    {
     "name": "stdout",
     "output_type": "stream",
     "text": [
      "Number of unique entries under commentText: 198382\n"
     ]
    },
    {
     "name": "stderr",
     "output_type": "stream",
     "text": [
      "\n"
     ]
    }
   ],
   "source": [
    "import pandas as pd\n",
    "from tqdm import tqdm\n",
    "\n",
    "# Load your dataset into a pandas DataFrame\n",
    "# Replace 'data.csv' with the actual path to your dataset\n",
    "df = pd.read_csv('comments.csv')\n",
    "\n",
    "# Specify the feature name for which you want to count unique entries\n",
    "feature_name = 'commentText'\n",
    "\n",
    "# Use tqdm to show progress bar\n",
    "unique_entries = set()\n",
    "for entry in tqdm(df[feature_name], desc='Finding unique entries'):\n",
    "    unique_entries.add(entry)\n",
    "\n",
    "num_unique_entries = len(unique_entries)\n",
    "print(f'Number of unique entries under {feature_name}: {num_unique_entries}')\n"
   ]
  }
 ],
 "metadata": {
  "kernelspec": {
   "display_name": "Python 3",
   "language": "python",
   "name": "python3"
  },
  "language_info": {
   "codemirror_mode": {
    "name": "ipython",
    "version": 3
   },
   "file_extension": ".py",
   "mimetype": "text/x-python",
   "name": "python",
   "nbconvert_exporter": "python",
   "pygments_lexer": "ipython3",
   "version": "3.11.9"
  }
 },
 "nbformat": 4,
 "nbformat_minor": 2
}
