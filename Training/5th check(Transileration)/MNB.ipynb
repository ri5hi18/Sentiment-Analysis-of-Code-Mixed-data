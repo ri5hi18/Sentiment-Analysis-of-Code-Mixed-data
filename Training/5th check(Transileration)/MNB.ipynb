{
 "cells": [
  {
   "cell_type": "code",
   "execution_count": 2,
   "metadata": {},
   "outputs": [
    {
     "name": "stdout",
     "output_type": "stream",
     "text": [
      "Test Accuracy: 67.19%\n",
      "                precision    recall  f1-score   support\n",
      "\n",
      "      Positive       0.67      0.76      0.71      1218\n",
      "      Negative       0.65      0.61      0.63      1257\n",
      "  Not_relevant       0.75      0.77      0.76      1312\n",
      "Mixed Feelings       0.62      0.59      0.60      1238\n",
      "       Neutral       0.67      0.63      0.65      1262\n",
      "\n",
      "      accuracy                           0.67      6287\n",
      "     macro avg       0.67      0.67      0.67      6287\n",
      "  weighted avg       0.67      0.67      0.67      6287\n",
      "\n"
     ]
    },
    {
     "data": {
      "image/png": "[encoded data removed]",
      "text/plain": [
       "<Figure size 800x600 with 1 Axes>"
      ]
     },
     "metadata": {},
     "output_type": "display_data"
    }
   ],
   "source": [
    "import pandas as pd\n",
    "import numpy as np\n",
    "from sklearn.model_selection import train_test_split\n",
    "from sklearn.utils import resample\n",
    "from sklearn.feature_extraction.text import TfidfVectorizer  # Import TfidfVectorizer\n",
    "from sklearn.naive_bayes import MultinomialNB\n",
    "from sklearn.metrics import accuracy_score, classification_report\n",
    "import matplotlib.pyplot as plt\n",
    "\n",
    "# Load data from CSV\n",
    "file_path = 'final_manglish_transliterated.csv'  # Replace with your file path\n",
    "data = pd.read_csv(file_path)\n",
    "\n",
    "# Ensure 'commentText' column contains strings\n",
    "data['transliterated_text'] = data['transliterated_text'].astype(str)\n",
    "\n",
    "# Function to convert sentiment labels to numerical values\n",
    "sentiment_dict = {\n",
    "    'Positive': 0,\n",
    "    'Negative': 1,\n",
    "    'Not_relevant': 2,\n",
    "    'Mixed Feelings': 3,\n",
    "    'Neutral': 4\n",
    "}\n",
    "\n",
    "data['Sentiment_Class'] = data['Sentiment_Class'].map(sentiment_dict)\n",
    "\n",
    "# Tokenization and TF-IDF vectorization\n",
    "max_words = 1000\n",
    "max_seq_length = 100\n",
    "vectorizer = TfidfVectorizer(max_features=max_words)  # Use TfidfVectorizer instead of CountVectorizer\n",
    "X = vectorizer.fit_transform(data['transliterated_text'])\n",
    "y = data['Sentiment_Class']\n",
    "\n",
    "# Upsample minority classes to match the size of the majority class\n",
    "data_upsampled = pd.concat([\n",
    "    resample(data[data['Sentiment_Class'] == sentiment_dict['Positive']], replace=True, n_samples=len(data[data['Sentiment_Class'] == sentiment_dict['Not_relevant']])),\n",
    "    resample(data[data['Sentiment_Class'] == sentiment_dict['Negative']], replace=True, n_samples=len(data[data['Sentiment_Class'] == sentiment_dict['Not_relevant']])),\n",
    "    resample(data[data['Sentiment_Class'] == sentiment_dict['Not_relevant']], replace=True, n_samples=len(data[data['Sentiment_Class'] == sentiment_dict['Not_relevant']])),\n",
    "    resample(data[data['Sentiment_Class'] == sentiment_dict['Mixed Feelings']], replace=True, n_samples=len(data[data['Sentiment_Class'] == sentiment_dict['Not_relevant']])),\n",
    "    resample(data[data['Sentiment_Class'] == sentiment_dict['Neutral']], replace=True, n_samples=len(data[data['Sentiment_Class'] == sentiment_dict['Not_relevant']]))\n",
    "])\n",
    "\n",
    "# Tokenization and TF-IDF vectorization for balanced data\n",
    "X_upsampled = vectorizer.fit_transform(data_upsampled['transliterated_text'])\n",
    "y_upsampled = data_upsampled['Sentiment_Class']\n",
    "\n",
    "# Split the upsampled data into training and testing sets\n",
    "X_train, X_test, y_train, y_test = train_test_split(X_upsampled, y_upsampled, test_size=0.2, random_state=10)\n",
    "\n",
    "# Build and train Multinomial Naive Bayes model\n",
    "nb_model = MultinomialNB()\n",
    "nb_model.fit(X_train, y_train)\n",
    "\n",
    "# Evaluate the model on test data\n",
    "y_pred = nb_model.predict(X_test)\n",
    "accuracy = accuracy_score(y_test, y_pred)\n",
    "print(f\"Test Accuracy: {accuracy * 100:.2f}%\")\n",
    "\n",
    "# Generate predictions\n",
    "reverse_sentiment_dict = {v: k for k, v in sentiment_dict.items()}\n",
    "y_test_labels = [reverse_sentiment_dict[label] for label in y_test]\n",
    "y_pred_labels = [reverse_sentiment_dict[label] for label in y_pred]\n",
    "\n",
    "# Print complete classification report\n",
    "print(classification_report(y_test_labels, y_pred_labels, target_names=sentiment_dict.keys()))\n",
    "\n",
    "# Plotting the accuracy\n",
    "plt.figure(figsize=(8, 6))\n",
    "plt.bar(['Training Accuracy', 'Test Accuracy'], [accuracy_score(y_train, nb_model.predict(X_train)), accuracy])\n",
    "plt.ylabel('Accuracy')\n",
    "plt.title('Model Accuracy')\n",
    "plt.ylim(0, 1)\n",
    "plt.show()\n"
   ]
  }
 ],
 "metadata": {
  "kernelspec": {
   "display_name": "Python 3",
   "language": "python",
   "name": "python3"
  },
  "language_info": {
   "codemirror_mode": {
    "name": "ipython",
    "version": 3
   },
   "file_extension": ".py",
   "mimetype": "text/x-python",
   "name": "python",
   "nbconvert_exporter": "python",
   "pygments_lexer": "ipython3",
   "version": "3.11.9"
  }
 },
 "nbformat": 4,
 "nbformat_minor": 2
}
