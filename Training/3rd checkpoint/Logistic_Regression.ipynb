{
 "cells": [
  {
   "cell_type": "code",
   "execution_count": 10,
   "metadata": {},
   "outputs": [
    {
     "name": "stdout",
     "output_type": "stream",
     "text": [
      "Test Accuracy (Logistic Regression): 71.31%\n",
      "Classification Report (Logistic Regression):\n",
      "                 precision    recall  f1-score   support\n",
      "\n",
      "      Positive       0.84      0.90      0.87       675\n",
      "      Negative       0.70      0.64      0.67       623\n",
      "  Not_relevant       0.67      0.71      0.69       619\n",
      "Mixed Feelings       0.63      0.64      0.64       627\n",
      "       Neutral       0.70      0.66      0.68       600\n",
      "\n",
      "      accuracy                           0.71      3144\n",
      "     macro avg       0.71      0.71      0.71      3144\n",
      "  weighted avg       0.71      0.71      0.71      3144\n",
      "\n"
     ]
    },
    {
     "data": {
      "image/png": "[encoded data removed]",
      "text/plain": [
       "<Figure size 600x400 with 1 Axes>"
      ]
     },
     "metadata": {},
     "output_type": "display_data"
    }
   ],
   "source": [
    "import pandas as pd\n",
    "import numpy as np\n",
    "from sklearn.model_selection import train_test_split\n",
    "from sklearn.utils import resample\n",
    "from sklearn.feature_extraction.text import CountVectorizer\n",
    "from sklearn.linear_model import LogisticRegression\n",
    "from sklearn.metrics import accuracy_score, classification_report\n",
    "import matplotlib.pyplot as plt\n",
    "\n",
    "# Load data from CSV\n",
    "file_path = 'final_manglish.csv'  # Replace with your file path\n",
    "data = pd.read_csv(file_path)\n",
    "\n",
    "# Ensure 'commentText' column contains strings\n",
    "data['commentText'] = data['commentText'].astype(str)\n",
    "\n",
    "# Function to convert sentiment labels to numerical values\n",
    "sentiment_dict = {\n",
    "    'Positive': 0,\n",
    "    'Negative': 1,\n",
    "    'Not_relevant': 2,\n",
    "    'Mixed Feelings': 3,\n",
    "    'Neutral': 4\n",
    "}\n",
    "\n",
    "data['Sentiment_Class'] = data['Sentiment_Class'].map(sentiment_dict)\n",
    "\n",
    "# Tokenization and sequence padding\n",
    "max_words = 1000\n",
    "max_seq_length = 100\n",
    "vectorizer = CountVectorizer(max_features=max_words)\n",
    "X = vectorizer.fit_transform(data['commentText'])\n",
    "y = data['Sentiment_Class']\n",
    "\n",
    "# Upsample minority classes to match the size of the majority class\n",
    "data_upsampled = pd.concat([\n",
    "    resample(data[data['Sentiment_Class'] == sentiment_dict['Positive']], replace=True, n_samples=len(data[data['Sentiment_Class'] == sentiment_dict['Not_relevant']])),\n",
    "    resample(data[data['Sentiment_Class'] == sentiment_dict['Negative']], replace=True, n_samples=len(data[data['Sentiment_Class'] == sentiment_dict['Not_relevant']])),\n",
    "    resample(data[data['Sentiment_Class'] == sentiment_dict['Not_relevant']], replace=True, n_samples=len(data[data['Sentiment_Class'] == sentiment_dict['Not_relevant']])),\n",
    "    resample(data[data['Sentiment_Class'] == sentiment_dict['Mixed Feelings']], replace=True, n_samples=len(data[data['Sentiment_Class'] == sentiment_dict['Not_relevant']])),\n",
    "    resample(data[data['Sentiment_Class'] == sentiment_dict['Neutral']], replace=True, n_samples=len(data[data['Sentiment_Class'] == sentiment_dict['Not_relevant']]))\n",
    "])\n",
    "\n",
    "# Tokenization and sequence padding for balanced data\n",
    "X_upsampled = vectorizer.fit_transform(data_upsampled['commentText'])\n",
    "y_upsampled = data_upsampled['Sentiment_Class']\n",
    "\n",
    "# Split the upsampled data into training and testing sets\n",
    "X_train, X_test, y_train, y_test = train_test_split(X_upsampled, y_upsampled, test_size=0.1, random_state=40)\n",
    "\n",
    "# Build and train Logistic Regression model\n",
    "lr_model = LogisticRegression(max_iter=1000, random_state=40)  # You can adjust the maximum number of iterations as needed\n",
    "lr_model.fit(X_train, y_train)\n",
    "\n",
    "# Evaluate the Logistic Regression model on test data\n",
    "y_pred_lr = lr_model.predict(X_test)\n",
    "accuracy_lr = accuracy_score(y_test, y_pred_lr)\n",
    "print(f\"Test Accuracy (Logistic Regression): {accuracy_lr * 100:.2f}%\")\n",
    "\n",
    "# Generate predictions for Logistic Regression\n",
    "reverse_sentiment_dict = {v: k for k, v in sentiment_dict.items()}\n",
    "y_test_labels = [reverse_sentiment_dict[label] for label in y_test]\n",
    "y_pred_labels_lr = [reverse_sentiment_dict[label] for label in y_pred_lr]\n",
    "\n",
    "# Print complete classification report for Logistic Regression\n",
    "print(\"Classification Report (Logistic Regression):\\n\", classification_report(y_test_labels, y_pred_labels_lr, target_names=sentiment_dict.keys()))\n",
    "\n",
    "# Plotting the accuracy comparison (Logistic Regression only)\n",
    "plt.figure(figsize=(6, 4))\n",
    "plt.bar(['Logistic Regression'], [accuracy_lr], width=0.4, label='Accuracy')\n",
    "plt.xlabel('Model')\n",
    "plt.ylabel('Accuracy')\n",
    "plt.title('Model Accuracy Comparison')\n",
    "plt.ylim(0, 1)\n",
    "plt.legend()\n",
    "plt.show()\n"
   ]
  }
 ],
 "metadata": {
  "kernelspec": {
   "display_name": "Python 3",
   "language": "python",
   "name": "python3"
  },
  "language_info": {
   "codemirror_mode": {
    "name": "ipython",
    "version": 3
   },
   "file_extension": ".py",
   "mimetype": "text/x-python",
   "name": "python",
   "nbconvert_exporter": "python",
   "pygments_lexer": "ipython3",
   "version": "3.11.8"
  }
 },
 "nbformat": 4,
 "nbformat_minor": 2
}
