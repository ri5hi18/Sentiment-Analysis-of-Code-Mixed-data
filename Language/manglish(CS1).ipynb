{
 "cells": [
  {
   "cell_type": "code",
   "execution_count": 17,
   "metadata": {},
   "outputs": [
    {
     "name": "stderr",
     "output_type": "stream",
     "text": [
      "C:\\Users\\Acer\\AppData\\Local\\Temp\\ipykernel_15096\\3698068859.py:8: DtypeWarning: Columns (5,6,7,8,10,11,12,13,14,15,16,17,18,19,20,21,22,23,24,25) have mixed types. Specify dtype option on import or set low_memory=False.\n",
      "  data = pd.read_csv(input_file)\n"
     ]
    },
    {
     "name": "stdout",
     "output_type": "stream",
     "text": [
      "Filtered data saved to 'manglish.csv'\n"
     ]
    }
   ],
   "source": [
    "import pandas as pd\n",
    "import re\n",
    "\n",
    "# Load the dataset\n",
    "input_file = 'comments.csv'\n",
    "output_file = 'manglish.csv'\n",
    "\n",
    "data = pd.read_csv(input_file)\n",
    "\n",
    "# Function to check if a text contains both Malayalam and English characters\n",
    "def is_manglish(text):\n",
    "    malayalam_pattern = re.compile(r'[\\u0D00-\\u0D7F]+')  # Unicode range for Malayalam characters\n",
    "    english_pattern = re.compile(r'[a-zA-Z]+')  # English alphabet\n",
    "\n",
    "    has_malayalam = bool(re.search(malayalam_pattern, text))\n",
    "    has_english = bool(re.search(english_pattern, text))\n",
    "\n",
    "    return has_malayalam and has_english\n",
    "\n",
    "# Filter the dataset for entries that contain both Malayalam and English\n",
    "manglish_data = data[data['commentText'].apply(lambda x: is_manglish(str(x)))]\n",
    "\n",
    "# Save the filtered data to a new CSV file\n",
    "manglish_data.to_csv(output_file, index=False)\n",
    "\n",
    "print(\"Filtered data saved to 'manglish.csv'\")\n"
   ]
  }
 ],
 "metadata": {
  "kernelspec": {
   "display_name": "Python 3",
   "language": "python",
   "name": "python3"
  },
  "language_info": {
   "codemirror_mode": {
    "name": "ipython",
    "version": 3
   },
   "file_extension": ".py",
   "mimetype": "text/x-python",
   "name": "python",
   "nbconvert_exporter": "python",
   "pygments_lexer": "ipython3",
   "version": "3.11.6"
  }
 },
 "nbformat": 4,
 "nbformat_minor": 2
}
